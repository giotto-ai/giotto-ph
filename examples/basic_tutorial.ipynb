{
 "cells": [
  {
   "cell_type": "markdown",
   "metadata": {},
   "source": [
    "# Tutorial: Persistent homology with `giotto-ph`\n",
    "\n",
    "This tutorial shows the basic functionalities and API of `giotto-ph`.\n",
    "\n",
    "## Introduction\n",
    "\n",
    "`giotto-ph` is a reworked and **parallelised** version of state-of-the-art algorithms for computing persistent homology of Vietoris–Rips filtrations. For a complete history and full references, see [our paper](https://arxiv.org/abs/2107.05412). Here we mention that its core API and some of its features are based upon the [ripser.py](https://joss.theoj.org/papers/10.21105/joss.00925) project.\n",
    "\n",
    "A Vietoris–Rips filtration is obtained from a point cloud or even just a distance-like matrix by progressively enlarging a parameter $\\varepsilon$ to build a nesting sequence of simplicial complexes. The $d$-dimensional simplex with vertices $(v_0, v_1, \\ldots, v_d)$ belongs to the complex at value $\\varepsilon$ if all \"pairwise distances\" between pairs of these vertices are less than or equal to $\\varepsilon$. Thus, even in the case of a geometric point cloud, only pairwise information is needed to construct this type of filtration.\n",
    "\n",
    "The reason we say \"distance-like\" and put quotes between \"pairwise distances\" is because, although Vietoris–Rips filtrations are easiest to think about and visualize on point clouds, with distances being genuine Euclidean distances, the procedure can deal with much more general input. Vietoris–Rips persistent homology (or \"flag\" persistent homology in this more general case) just needs as input a square matrix $M$ such that\n",
    "\n",
    "  - for all $i$ and $j$, $M_{ij} \\geq \\max \\{M_{ii}, M_{jj}\\}$.\n",
    "\n",
    "In this picture we see a sequence of complexes based on a point cloud in Euclidean space, forming as $\\varepsilon$ increases over time. The bubbles are the disks of radius $\\varepsilon$."
   ]
  },
  {
   "cell_type": "code",
   "execution_count": null,
   "metadata": {},
   "outputs": [],
   "source": [
    "from IPython.display import Image  # to display images\n",
    "Image(\"images/ph.gif\")"
   ]
  },
  {
   "cell_type": "code",
   "execution_count": null,
   "metadata": {},
   "outputs": [],
   "source": [
    "# Install missing dependencies\n",
    "import sys\n",
    "!{sys.executable} -m pip install giotto-tda"
   ]
  },
  {
   "cell_type": "code",
   "execution_count": null,
   "metadata": {},
   "outputs": [],
   "source": [
    "# here comes our protagonist!\n",
    "from gph import ripser_parallel\n",
    "\n",
    "# Import utils\n",
    "import numpy as np\n",
    "from gtda.homology._utils import _postprocess_diagrams\n",
    "\n",
    "# To generate dataset\n",
    "from sklearn import datasets\n",
    "\n",
    "# Plotting\n",
    "from plotly import graph_objects as go\n",
    "from gtda.plotting import plot_diagram, plot_point_cloud"
   ]
  },
  {
   "cell_type": "markdown",
   "metadata": {},
   "source": [
    "Let us produce a noisy circle as a point cloud for this tutorial:"
   ]
  },
  {
   "cell_type": "code",
   "execution_count": null,
   "metadata": {},
   "outputs": [],
   "source": [
    "data = datasets.make_circles(n_samples=100, noise=0.1, factor=0.7, random_state=42)[0]\n",
    "\n",
    "# Plot the point cloud\n",
    "plot_point_cloud(data)"
   ]
  },
  {
   "cell_type": "markdown",
   "metadata": {},
   "source": [
    "## Default arguments (serial computation)\n",
    "\n",
    "Parallelism is *not* exploited when calling `ripser_parallel` with default arguments: all computations are performed by a single thread in that case.\n",
    "\n",
    "One of the most effective ways of presenting persistent topological features is to plot them as points $(b, d)$ in a two-dimensional plane. The $x$- and $y$-coordinates of one such point are the birth and death filtration values for the corresponding feature, i.e. the values at which the topological feature is created (e.g. the circle is formed) and at which it is destroyed (e.g. the circle is filled up). The result is a *persistence diagram*. and one can say that the farther a point is from the diagonal $b = d$, the less *persistent* the feature it represents."
   ]
  },
  {
   "cell_type": "code",
   "execution_count": null,
   "metadata": {},
   "outputs": [],
   "source": [
    "# Compute the persistence diagram\n",
    "dgm = ripser_parallel(data)\n",
    "\n",
    "# Convert to gtda format\n",
    "dgm_gtda = _postprocess_diagrams([dgm[\"dgms\"]], \"ripser\", (0, 1), np.inf, True)[0]\n",
    "\n",
    "# Plot the persistence diagram\n",
    "plot_diagram(dgm_gtda, homology_dimensions=(0, 1))"
   ]
  },
  {
   "cell_type": "markdown",
   "metadata": {},
   "source": [
    "## Higher homology groups\n",
    "\n",
    "We can compute any degree of homology but, by default, we only compute $H_0$ and $H_1$. \n",
    "\n",
    "You can specify that higher-degree homological features should be computed by increasing the argument `maxdim`. It practice, anything above $H_1$ will benefit more substantially form parallelisation."
   ]
  },
  {
   "cell_type": "code",
   "execution_count": null,
   "metadata": {},
   "outputs": [],
   "source": [
    "# Compute the persistence diagram\n",
    "dgm = ripser_parallel(data, maxdim=2)\n",
    "\n",
    "# Convert to gtda format\n",
    "dgm_gtda = _postprocess_diagrams([dgm[\"dgms\"]], \"ripser\", (0, 1, 2), np.inf, True)[0]\n",
    "\n",
    "# plot\n",
    "plot_diagram(dgm_gtda, homology_dimensions=(0, 1, 2))"
   ]
  },
  {
   "cell_type": "markdown",
   "metadata": {
    "tags": []
   },
   "source": [
    "## Parallelised computations\n",
    "\n",
    "The parameter `n_threads` in `ripser_parallel` can be set to an integer greater than `1` to activate parallel computations. In addition, `-1` will use all available cores in your machine. Skip to the code cell below to see this in action, or keep reading here for some more background on how parallelism is achieved.\n",
    "\n",
    "### How it works\n",
    "\n",
    "The parallelism implemented in `giotto-ph` builds on different sources already present in the literature.\n",
    "\n",
    "The basic idea is to parallelise the reduction of the filtration (co)boundary matrix $\\mathbf{D}$. In order to compute homology, one needs to know the *image* and the *kernel* of $\\mathbf{D}$ (see e.g. [Wikipedia](https://en.wikipedia.org/wiki/Simplicial_homology) for more details). These can be easily read off from $\\mathbf{D}$ if we reduce this matrix to *column echelon form*: the kernel will then be generated by the linear combinations leading to zero columns, while the image will be given by the non-zero columns themselves.\n",
    "\n",
    "When computing *persistent homology*, we are only allowed to perform this column reduction by adding columns from left to right. However, we can do this in any order we like and even in parallel, as long as we respect the basic invariants of the reduction algorithm. The idea or reducing in parallel in this way was first presented in [Towards Lockfree Persistent Homology](https://www.mrzv.org/publications/lockfree-persistence/spaa/) by Morozov and Nigmetov, and implemented by those authors on top of Ulrich Bauer's [Ripser](https://arxiv.org/abs/1908.02518).\n",
    "\n",
    "More potential for parallelism is unlocked in `giotto-ph` by adapting ideas from [GPU-Accelerated Computation of Vietoris-Rips Persistence Barcodes](https://arxiv.org/abs/2003.07989) by Zhang, Xiao and Wang, but we do not discuss these here."
   ]
  },
  {
   "cell_type": "code",
   "execution_count": null,
   "metadata": {},
   "outputs": [],
   "source": [
    "Image(\"images/multithread.png\")"
   ]
  },
  {
   "cell_type": "code",
   "execution_count": null,
   "metadata": {},
   "outputs": [],
   "source": [
    "# Compute the persistence diagram up to degree 5 in homology\n",
    "dgm = ripser_parallel(data, n_threads=-1, maxdim=5)\n",
    "\n",
    "# Convert to gtda format\n",
    "dgm_gtda = _postprocess_diagrams([dgm[\"dgms\"]], \"ripser\", (0, 1, 2, 3, 4, 5), np.inf, True)[0]\n",
    "\n",
    "# Plot\n",
    "plot_diagram(dgm_gtda, homology_dimensions=(0, 1, 2, 3, 4, 5))"
   ]
  },
  {
   "cell_type": "markdown",
   "metadata": {},
   "source": [
    "This particular dataset does not have any features in homology dimensions 3 to 5. Too bad!"
   ]
  },
  {
   "cell_type": "markdown",
   "metadata": {},
   "source": [
    "## Specify a maximum filtration parameter\n",
    "\n",
    "We can decide to stop the construction of filtration at a specific value of the filtration parameter by setting the argument `thresh`. In the example point cloud above, this corresponds to specifying a maximum size for the bubbles. Since fewer simplices are added in total in this case, the computations will be faster if you specify such thresholds.\n",
    "\n",
    "### Warning\n",
    "\n",
    "Reducing the threshold implies that topological features that only appear at a large radius (a.k.a. filtration value) may not be present at all in your persistence diagram or that some features may not die (as in the example below)."
   ]
  },
  {
   "cell_type": "code",
   "execution_count": null,
   "metadata": {},
   "outputs": [],
   "source": [
    "# compute the persistence diagram\n",
    "dgm = ripser_parallel(data, thresh=2.5)\n",
    "\n",
    "# convert to gtda format\n",
    "dgm_gtda = _postprocess_diagrams([dgm[\"dgms\"]], \"ripser\", (0, 1), np.inf, True)[0]\n",
    "\n",
    "# plot\n",
    "plot_diagram(dgm_gtda, homology_dimensions=(0, 1))"
   ]
  },
  {
   "cell_type": "markdown",
   "metadata": {},
   "source": [
    "## Edge Collapser integration\n",
    "\n",
    "By setting the optional parameter `collapse_edges` to `True`, the [Edge Collapse](https://hal.inria.fr/hal-02873740/document) algorithm is used before performing any matrix reduction. This algorithm flags some of the edges as *dominated* and removes them completely from the filtration. This can lead to a greatly sparsified filtration and therefore to immense speed-ups especially when high homology dimensions are required.\n",
    "\n",
    "**Persistent barcodes computed with or without edge collapses are exactly the same**."
   ]
  },
  {
   "cell_type": "code",
   "execution_count": null,
   "metadata": {},
   "outputs": [],
   "source": [
    "# compute the persistence diagram\n",
    "dgm = ripser_parallel(data, collapse_edges=True)\n",
    "\n",
    "# convert to gtda format\n",
    "dgm_gtda = _postprocess_diagrams([dgm[\"dgms\"]], \"ripser\", (0, 1), np.inf, True)[0]\n",
    "\n",
    "# plot\n",
    "plot_diagram(dgm_gtda, homology_dimensions=(0, 1))"
   ]
  },
  {
   "cell_type": "markdown",
   "metadata": {},
   "source": [
    "## Changing the basis field\n",
    "\n",
    "It is possible to change the field of coefficients used to define homology, to any finite field in (prime) characteristic.\n",
    "\n",
    "The default is $\\mathbb{F}_2$, but it can be generalised to any $\\mathbb{F}_p$, $p$ prime."
   ]
  },
  {
   "cell_type": "code",
   "execution_count": null,
   "metadata": {},
   "outputs": [],
   "source": [
    "# Compute the persistence diagram\n",
    "dgm = ripser_parallel(data, coeff=7)\n",
    "\n",
    "# Convert to gtda format\n",
    "dgm_gtda = _postprocess_diagrams([dgm[\"dgms\"]], \"ripser\", (0, 1), np.inf, True)[0]\n",
    "\n",
    "# plot\n",
    "plot_diagram(dgm_gtda, homology_dimensions=(0, 1))"
   ]
  }
 ],
 "metadata": {
  "kernelspec": {
   "display_name": "Python 3",
   "language": "python",
   "name": "python3"
  },
  "language_info": {
   "codemirror_mode": {
    "name": "ipython",
    "version": 3
   },
   "file_extension": ".py",
   "mimetype": "text/x-python",
   "name": "python",
   "nbconvert_exporter": "python",
   "pygments_lexer": "ipython3",
   "version": "3.9.2"
  }
 },
 "nbformat": 4,
 "nbformat_minor": 4
}
