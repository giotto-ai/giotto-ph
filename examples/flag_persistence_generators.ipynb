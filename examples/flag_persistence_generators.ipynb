{
 "cells": [
  {
   "cell_type": "markdown",
   "id": "a40d1d2e-c23e-4a89-9a0c-694ce37fb8f0",
   "metadata": {},
   "source": [
    "# Tutorial: Flag persistence generators\n",
    "\n",
    "In this notebook, we show how to retrieve the vertices and edges responsible for the creation/destruction of persistent topological features in a Vietoris–Rips filtration. We use the same setup and kind of dataset as in the [basic tutorial](https://github.com/giotto-ai/giotto-ph/blob/main/examples/basic_tutorial.ipynb)."
   ]
  },
  {
   "cell_type": "code",
   "execution_count": null,
   "id": "c821577f-4928-4403-90c3-d4b6ef4c5440",
   "metadata": {},
   "outputs": [],
   "source": [
    "# Install missing dependencies\n",
    "import sys\n",
    "!{sys.executable} -m pip install giotto-tda"
   ]
  },
  {
   "cell_type": "code",
   "execution_count": null,
   "id": "7e4bf17b-f6b4-444c-a344-38ff096c7f4a",
   "metadata": {},
   "outputs": [],
   "source": [
    "# Giotto-ph\n",
    "from gph import ripser_parallel\n",
    "\n",
    "# Import utils\n",
    "import numpy as np\n",
    "from gtda.homology._utils import _postprocess_diagrams\n",
    "\n",
    "# To generate dataset\n",
    "from sklearn import datasets\n",
    "\n",
    "# Plotting\n",
    "from plotly import graph_objects as go\n",
    "from gtda.plotting import plot_diagram, plot_point_cloud"
   ]
  },
  {
   "cell_type": "code",
   "execution_count": null,
   "id": "af416ee2-3e72-4e43-b919-78647c90e4f6",
   "metadata": {},
   "outputs": [],
   "source": [
    "# Make a noisy circle point cloud\n",
    "data = datasets.make_circles(n_samples=100, noise=0.1, factor=0.7, random_state=42)[0]\n",
    "\n",
    "# Plot the point cloud\n",
    "plot_point_cloud(data)"
   ]
  },
  {
   "cell_type": "markdown",
   "id": "37c9dda6-a36b-4615-a2ab-0f48d5149773",
   "metadata": {},
   "source": [
    "The information on vertices and edges responsible for the creation/destruction of persistent topological features can be retrieved by passing `return_generators=True` to `ripser_parallel`. A new entry is added to the output dictionary, with key `\"gens\"` and corresponding value a tuple of length 4 organized schematically as follows:\n",
    "\n",
    "  0. vertices creating and edges destroying *finite* $0$-dimensional features;\n",
    "  1. edges creating and destroying *finite* $d$-dimensional features, $d \\geq 1$;\n",
    "  2. vertices creating *infinite* $0$-dimensional features;\n",
    "  3. edges creating *infinite* $d$-dimensional features, $d \\geq 1$.\n",
    "\n",
    "(Vertices are encoded by their indices and edges as pairs of vertex indices.) In the case of entries 1 and 3 (higher dimensions), that information is organized by homology dimension. So, for example, calling `gens` this tuple (value in the dictionary):\n",
    "\n",
    "  - `gens[1]` and `gens[3]` are lists containing `maxdim` 2D integer `numpy` arrays, while `gens[0]` and `gens[2]` are `numpy` arrays;\n",
    "  - the edges creating and destroying finite features in dimension 1 are stored in `gens_finite_1 = gens[1][0]`;\n",
    "  - `gens_finite_1` is a 2D integer `numpy` array with as many rows as there are finite features in dimension 1;\n",
    "  - The `i`th finite feature in the 1-dimensional barcode is created by edge `gens_finite_1[i, :2]` and destroyed by edge `gens_finite_1[i, 2:]`.\n",
    "\n",
    "This way of presenting persistence birth and death vertices/edges agrees with other persistent homology packages and in particular with [GUDHI](http://gudhi.gforge.inria.fr/)."
   ]
  },
  {
   "cell_type": "code",
   "execution_count": null,
   "id": "a3dd8319-d0dc-4cb1-98ce-b30b126cf62b",
   "metadata": {},
   "outputs": [],
   "source": [
    "# Compute the persistence information\n",
    "persistence_info = ripser_parallel(data, return_generators=True)\n",
    "gens = persistence_info['gens']"
   ]
  },
  {
   "cell_type": "markdown",
   "id": "a4f4cb5a-1db4-43dc-b3a6-90682cb1bfe6",
   "metadata": {},
   "source": [
    "Let us visualize the 1-dimensional generators for our point cloud, labelling them by the positional index of the corresponding feature in the persistence diagram and using blue for creation and red for destruction:"
   ]
  },
  {
   "cell_type": "code",
   "execution_count": null,
   "id": "9b655265-23f2-4821-80f2-555db7970e35",
   "metadata": {},
   "outputs": [],
   "source": [
    "# Plot the point cloud\n",
    "fig = plot_point_cloud(data)\n",
    "\n",
    "# In blue are the edges that create a finite persistent topological features in dimension 1.\n",
    "# In red are the edges that destroy a finite persistent topological feature in dimension 1.\n",
    "for i, edges in enumerate(gens[1][0]):\n",
    "    birth_edge = edges[0:2]\n",
    "    death_edge = edges[2:4]\n",
    "    x0_create, y0_create = data[birth_edge[0]]\n",
    "    x1_create, y1_create = data[birth_edge[1]]\n",
    "    x0_destroy, y0_destroy = data[death_edge[0]]\n",
    "    x1_destroy, y1_destroy  = data[death_edge[1]]  \n",
    "\n",
    "    fig.add_shape(type='line',\n",
    "                  x0=x0_create,\n",
    "                  y0=y0_create,\n",
    "                  x1=x1_create,\n",
    "                  y1=y1_create,\n",
    "                  line=dict(color='Blue'))\n",
    "    fig.add_shape(type='line',\n",
    "                  x0=x0_destroy,\n",
    "                  y0=y0_destroy,\n",
    "                  x1=x1_destroy,\n",
    "                  y1=y1_destroy,\n",
    "                  line=dict(color='Red'))\n",
    "    fig.add_trace(\n",
    "        go.Scatter(x=[0.5 * (x0_create + x1_create) + 0.05, 0.5 * (x0_destroy + x1_destroy) + 0.05],\n",
    "                   y=[0.5 * (y0_create + y1_create), 0.5 * (y0_destroy + y1_destroy)],\n",
    "                   text=[str(i), str(i)],\n",
    "                   mode=\"text\")\n",
    "    )\n",
    "\n",
    "fig.update_layout(showlegend=False)\n",
    "fig.show()"
   ]
  }
 ],
 "metadata": {
  "kernelspec": {
   "display_name": "Python 3",
   "language": "python",
   "name": "python3"
  },
  "language_info": {
   "codemirror_mode": {
    "name": "ipython",
    "version": 3
   },
   "file_extension": ".py",
   "mimetype": "text/x-python",
   "name": "python",
   "nbconvert_exporter": "python",
   "pygments_lexer": "ipython3",
   "version": "3.9.2"
  }
 },
 "nbformat": 4,
 "nbformat_minor": 5
}
